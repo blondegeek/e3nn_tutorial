{
 "cells": [
  {
   "cell_type": "markdown",
   "metadata": {
    "slideshow": {
     "slide_type": "slide"
    }
   },
   "source": [
    "# Datatypes in E(3) Neural Networks\n",
    "\n",
    "### using the `e3nn` repository\n",
    "\n",
    "## tutorial by: Tess E. Smidt\n",
    "## code by: \n",
    "\n",
    "[![DOI](https://zenodo.org/badge/116704656.svg)](https://zenodo.org/badge/latestdoi/116704656)\n",
    "```\n",
    "@misc{mario_geiger_2019_3348277,\n",
    "  author       = {Mario Geiger and\n",
    "                  Tess Smidt and\n",
    "                  Wouter Boomsma and\n",
    "                  Maurice Weiler and\n",
    "                  Michał Tyszkiewicz and\n",
    "                  Jes Frellsen and\n",
    "                  Benjamin K. Miller and\n",
    "                  Josh Rackers},\n",
    "  title        = {e3nn/e3nn: Point cloud support},\n",
    "  month        = jul,\n",
    "  year         = 2019,\n",
    "  doi          = {10.5281/zenodo.3348277},\n",
    "  url          = {https://doi.org/10.5281/zenodo.3348277}\n",
    "}\n",
    "```"
   ]
  },
  {
   "cell_type": "markdown",
   "metadata": {
    "slideshow": {
     "slide_type": "slide"
    }
   },
   "source": [
    "# Our data types are geometry and features on that geometry expressed as geometric tensors\n",
    "\n",
    "Most properties of physical systems are expressed in terms of geometric tensors. Scalars (mass), vectors (velocities, forces, polarizations), matrices (polarizability, moment of inertia) and higher rank tensors are all geometric tensors."
   ]
  },
  {
   "cell_type": "markdown",
   "metadata": {
    "slideshow": {
     "slide_type": "subslide"
    }
   },
   "source": [
    "## Geometric tensors: Cartesian tensors and Spherical Tensors\n",
    "\n",
    "Geometric tensors are commonly expressed with Cartesian indicies $(x, y, z)$ -- we will call these Cartesian tensors. However, there is an equally expressive way of representing geometric tensors as spherical tensors.\n",
    "\n",
    "Whereas for Cartesian tensors the indices can be interpreted as information along $(x, y, z)$, spherical tensors are index by which spherical harmonic they are associated with. These representations can be used interchangable.\n",
    "\n",
    "We use spherical tensors in our network because our convolutional filters are expressed in terms of spherical harmonics -- *more about that later*. \n",
    "\n",
    "[Wikipedia has a great overview of spherical harmonics](https://en.wikipedia.org/wiki/Spherical_harmonics). As a quick recap, the spherical harmonics are the Fourier basis for functions on the unit sphere. They have two indices, most commonly called the \"degree\" $L$ and \"order\" $m$ and are commonly parameterized by spherical coordinate angles $\\theta$ and $\\phi$. \n",
    "\n",
    "$Y_{l}^{m}(\\theta, \\phi)$ for complex spherical harmonics or\n",
    "$Y_{lm}(\\theta, \\phi)$ for real spherical harmonics.\n",
    "\n",
    "In `e3nn`, we use [real spherical harmonics](https://en.wikipedia.org/wiki/Table_of_spherical_harmonics#Real_spherical_harmonics). There are $2 L + 1$ functions (indexed by $m$) for each $L$. Functions of degree $L$ have the same frequency. Note, that these frequencies must be integral (or half-integral for $SU(2)$) because of the periodic boundary conditions of the sphere."
   ]
  },
  {
   "cell_type": "markdown",
   "metadata": {
    "slideshow": {
     "slide_type": "subslide"
    }
   },
   "source": [
    "## Representation Lists in `e3nn`\n",
    "To keep track of which spherical tensor entries correspond to which spherical harmonic, we use representation lists, commonly saved as a variable `Rs`.\n",
    "\n",
    "`Rs` is a list of tuples `(mult, L)` where `mult` is the multiplicity (or number of copies) and `L` is the degree of the spherical harmonic.\n",
    "\n",
    "For example, the `Rs` of a single vector is \n",
    "`Rs_vec = [(1, 1)]`\n",
    "and two vectors\n",
    "`Rs_2vec = [(2, 1)]`\n",
    "\n",
    "You will sometimes see an `Rs` with three integers in the tuple `(mult, L, parity)`, where the first two are the same as before and `parity` indicates whether that part of the tensor has equal `0` or opposite `1` parity as the spherical harmonic. All odd $L$ spherical harmonics have odd parity (they do change under parity) and all even $L$ spherical harmonics have even parity (they do NOT change under parity)."
   ]
  },
  {
   "cell_type": "markdown",
   "metadata": {
    "slideshow": {
     "slide_type": "slide"
    }
   },
   "source": [
    "## Spherical Harmonics\n",
    "First, let's draw the spherical harmonics using the `SphericalTensor` class defined in spherical.py. This is a handy helper class that I've written for this tutorial so we can quickly manipulate and plot spherical tensors."
   ]
  },
  {
   "cell_type": "code",
   "execution_count": null,
   "metadata": {
    "slideshow": {
     "slide_type": "subslide"
    }
   },
   "outputs": [],
   "source": [
    "%load_ext autoreload\n",
    "%autoreload 2\n",
    "\n",
    "import torch \n",
    "import numpy as np\n",
    "import e3nn.o3 as o3\n",
    "from e3nn.rs import tensor_product\n",
    "from spherical import SphericalTensor # a small Signal class written for ease of handling Spherical Tensors\n",
    "import plotly\n",
    "from plotly.subplots import make_subplots\n",
    "\n",
    "torch.set_default_dtype(torch.float64)\n",
    "\n",
    "L_max = 3\n",
    "rows = L_max + 1\n",
    "cols = 2 * L_max + 1\n",
    "\n",
    "specs = [[{'is_3d': True} for i in range(cols)]\n",
    "         for j in range(rows)]\n",
    "fig = make_subplots(rows=rows, cols=cols, specs=specs)\n",
    "\n",
    "for L in range(L_max + 1):\n",
    "    for m in range(0, 2 * L + 1):\n",
    "        tensor = torch.zeros(2 * L + 1)\n",
    "        tensor[m] = 1.0\n",
    "        sphten = SphericalTensor(tensor, Rs=[(1, L)])\n",
    "        row, col = L + 1, (L_max - L) + m + 1\n",
    "        trace = sphten.plot(relu=False, n=60)\n",
    "        if m != 2 * L_max:\n",
    "            trace.showscale = False\n",
    "        fig.add_trace(trace, row=row, col=col)\n",
    "\n",
    "fig.show()"
   ]
  },
  {
   "cell_type": "markdown",
   "metadata": {
    "slideshow": {
     "slide_type": "slide"
    }
   },
   "source": [
    "## Spherical harmonics as linear combination of monomials\n",
    "\n",
    "To understand how the spherical harmonics are grouped, it can be helpful to think of the spherical harmonics as being built from monomials proportional to $x^\\alpha y^\\beta z^\\gamma$ where $L = \\alpha + \\beta + \\gamma$. For $L=0$ there is only 1 spherical harmonic and 1 monomial ($1$), for $L=1$ there are 3 spherical harmonics and 3 monomials $(y, z, x)$, for $L=2$ there are 5 spherical harmonics but 6 monomials $(x^2, y^2, z^2, xy, yz, zx)$. \n",
    "\n",
    "How do we go from 6 to 5? Well, there's a hidden redundancy in these 6 monomials. $x^2$, $y^2$, and $z^2$ are mixtures of L=0 and L=2 which stems from the fact that $x^2 + y^2 + z^2 = r^2$ which is a scalar. We can calculate how these monomials project onto spherical tensors."
   ]
  },
  {
   "cell_type": "code",
   "execution_count": null,
   "metadata": {
    "slideshow": {
     "slide_type": "subslide"
    }
   },
   "outputs": [],
   "source": [
    "empty = torch.zeros(3, 3)\n",
    "x2, y2, z2 = empty.clone(), empty.clone(), empty.clone()\n",
    "x2[0, 0], y2[1, 1], z2[2, 2] = 1, 1, 1 # Create tensor representation of x^2, y^2 and z^2\n",
    "\n",
    "perm_x2 = x2.clone()[torch.tensor([1, 2, 0]).unsqueeze(1), torch.tensor([1, 2, 0]).unsqueeze(0)]\n",
    "perm_y2 = y2.clone()[torch.tensor([1, 2, 0]).unsqueeze(1), torch.tensor([1, 2, 0]).unsqueeze(0)]\n",
    "perm_z2 = z2.clone()[torch.tensor([1, 2, 0]).unsqueeze(1), torch.tensor([1, 2, 0]).unsqueeze(0)]\n",
    "\n",
    "# Representation lists that we use in `e3nn` indicate the order of coeffients in a spherical tensor\n",
    "# A component of a representation list describes the multiplicity and degree (mult, L)\n",
    "Rs_vec = [(1, 1)] # Representation list of a single vector\n",
    "Rs_3x3, C = tensor_product(Rs_vec, Rs_vec) # Rep vec and Clebsch-Gordon\n",
    "C = C.permute(1,2,0)\n",
    "\n",
    "print(\"x^2, y^2, and z^2 are mixtures of L=0 and L=2\")\n",
    "print(\"SH:\", \"  1      y      z      x      xy     yz     *      zx     %\", )\n",
    "print(\"x^2\", torch.einsum('ijk,ij->k', C, perm_x2).detach().numpy().round(3))\n",
    "print(\"y^2\", torch.einsum('ijk,ij->k', C, perm_y2).detach().numpy().round(3))\n",
    "print(\"z^2\", torch.einsum('ijk,ij->k', C, perm_z2).detach().numpy().round(3))\n",
    "print(\"* == 2z^2 - x^2 - y^2\")\n",
    "print(\"% == x^2 - y^2\")"
   ]
  },
  {
   "cell_type": "markdown",
   "metadata": {
    "slideshow": {
     "slide_type": "slide"
    }
   },
   "source": [
    "## 3x3 Matrix as a Cartesian and Spherical tensor\n",
    "\n",
    "Geometric tensors rotate predictably under rotation. Let's take the example of a 3 x 3 matrix, a Cartesian tensor of rank 2.\n",
    "\n",
    "$M_{ij} = \n",
    "\\begin{pmatrix}\n",
    "    \\alpha_{xx} & \\alpha_{xy} & \\alpha_{xz} \\\\\n",
    "    \\alpha_{yx} & \\alpha_{yy} & \\alpha_{yz}\\\\\n",
    "    \\alpha_{zx} & \\alpha_{zy} & \\alpha_{zz}\n",
    "\\end{pmatrix}$\n",
    "\n",
    "where $i$ and $j$ are indexed as $(x, y, z)$. \n",
    "\n",
    "We can also express this matrix as a spherical harmonic tensor. The way to do this conversion is to recognize that $L=1$ spherical tensor has the same indices as $(x, y, z)$ EXCEPT they are permuted as $(y, z, x)$."
   ]
  },
  {
   "cell_type": "code",
   "execution_count": null,
   "metadata": {
    "slideshow": {
     "slide_type": "subslide"
    }
   },
   "outputs": [],
   "source": [
    "M = torch.randn(3, 3)\n",
    "# Permute indices to ('y', 'z', 'x') to be compatible with spherical harmonic convention\n",
    "perm_M = M.clone()[torch.tensor([1, 2, 0]).unsqueeze(1), torch.tensor([1, 2, 0]).unsqueeze(0)]\n",
    "\n",
    "import matplotlib.pyplot as plt\n",
    "%matplotlib inline\n",
    "fig, axes = plt.subplots(1, 2, figsize=(8, 5));\n",
    "axes[0].matshow(M)\n",
    "axes[0].set_title('M');\n",
    "axes[0].get_xaxis().set_visible(False)\n",
    "axes[0].get_yaxis().set_visible(False)\n",
    "for i, x in enumerate([\"x\", \"y\", \"z\"]):\n",
    "    for j, y in enumerate([\"x\", \"y\", \"z\"]):\n",
    "        axes[0].text(j - 0.2, i + 0.1, x + y, {'color':'white', 'fontsize': 20})\n",
    "    \n",
    "im = axes[1].matshow(perm_M)\n",
    "axes[1].set_title('M permuted for both indices');\n",
    "axes[1].get_xaxis().set_visible(False)\n",
    "axes[1].get_yaxis().set_visible(False)\n",
    "for i, x in enumerate([\"y\", \"z\", \"x\"]):\n",
    "    for j, y in enumerate([\"y\", \"z\", \"x\"]):\n",
    "        axes[1].text(j - 0.2, i + 0.1, x + y, {'color':'white', 'fontsize': 20})\n",
    "        \n",
    "fig.colorbar(im, ax=axes[:], shrink=0.75);"
   ]
  },
  {
   "cell_type": "markdown",
   "metadata": {
    "slideshow": {
     "slide_type": "slide"
    }
   },
   "source": [
    "## Rotating Cartesian and Spherical tensors\n",
    "Our Cartesian matrix can be rotated with a 3D rotation matrix R applied to each Cartesian index.\n",
    "\n",
    "$R_{ki} R_{lj} M_{ij} = M_{kl}$\n",
    "\n",
    "As shown above, we can permute our Cartesian indices $(x, y, z)$ into those of L=1 spherical harmonics $(y, z, x)$.\n",
    "\n",
    "We can even simplify the matrix by combining its two indices into a single index using the [Clebsch-Gordon coefficients](https://en.wikipedia.org/wiki/Clebsch%E2%80%93Gordan_coefficients).\n",
    "\n",
    "$I_k = C_{ijk} M_{ij}$\n",
    "\n",
    "where $C_{ijk}$ are the Clebsch-Gordon tensor. See Griffiths -- Introduction to Quantum Mechanics, Ch. 4 for more details.\n",
    "\n",
    "We can then rotate this index using [Wigner D-matrices](https://en.wikipedia.org/wiki/Wigner_D-matrix), rotation matrices for the irreducible basis.\n",
    "\n",
    "$I_{i} = D_{ij} I_j$\n",
    "\n",
    "We can then convert back to the 3x3 matrix format to see that these rotations are indeed equivalent."
   ]
  },
  {
   "cell_type": "code",
   "execution_count": null,
   "metadata": {
    "slideshow": {
     "slide_type": "subslide"
    }
   },
   "outputs": [],
   "source": [
    "# random rotation Euler angles alpha, beta, gamma\n",
    "angles = torch.rand(3) * torch.tensor([np.pi, 2 * np.pi, np.pi])\n",
    "rot = o3.rot(*angles)\n",
    "\n",
    "rotated_M = torch.einsum('ki,ij,lj->kl', rot, M, rot)\n",
    "\n",
    "Rs_vec = [(1, 1)] # Representation list of a single vector\n",
    "Rs_3x3, C = tensor_product(Rs_vec, Rs_vec)\n",
    "C = C.permute(1,2,0)\n",
    "print(\"Single index representation of 3x3 matrix:\", Rs_3x3)\n",
    "print(\"Shape of Clebsch-Gordon tensor:\", C.shape)\n",
    "\n",
    "# Wigner D matrix -- rotation matrix for irreducible representations\n",
    "wignerD = o3.direct_sum(*[o3.irr_repr(l, *angles) for mul, l, parity in Rs_3x3 for _ in range(mul)])\n",
    "print(\"Shape of Wigner-D matrix:\", wignerD.shape)\n",
    "\n",
    "# Convert matrix to representation vector\n",
    "I = torch.einsum('ijk,ij->k', C, perm_M)\n",
    "# Rotate representation vector\n",
    "rotated_I = torch.einsum('ij,j->i', wignerD, I)\n",
    "\n",
    "# And we can convert this back to our original format to compare\n",
    "rotated_perm_M = torch.einsum('ijk,k->ij', C, rotated_I)\n",
    "rotated_M_prime = rotated_perm_M.clone()\n",
    "rotated_M_prime[torch.tensor([1, 2, 0]).unsqueeze(1), torch.tensor([1, 2, 0]).unsqueeze(0)] = rotated_perm_M.clone()"
   ]
  },
  {
   "cell_type": "code",
   "execution_count": null,
   "metadata": {
    "slideshow": {
     "slide_type": "subslide"
    }
   },
   "outputs": [],
   "source": [
    "# Visualize M and rotated_M\n",
    "import matplotlib.pyplot as plt\n",
    "%matplotlib inline\n",
    "fig, axes = plt.subplots(1, 3, figsize=(12, 6));\n",
    "axes[0].matshow(M)\n",
    "axes[0].set_title('M');\n",
    "axes[0].get_xaxis().set_visible(False)\n",
    "axes[0].get_yaxis().set_visible(False)\n",
    "    \n",
    "axes[1].matshow(rotated_M)\n",
    "axes[1].set_title('Rotated M from Cartesian');\n",
    "axes[1].get_xaxis().set_visible(False)\n",
    "axes[1].get_yaxis().set_visible(False)\n",
    "\n",
    "im = axes[2].matshow(rotated_M_prime)\n",
    "axes[2].set_title(\"Rotated M from Spherical\");\n",
    "axes[2].get_xaxis().set_visible(False)\n",
    "axes[2].get_yaxis().set_visible(False)\n",
    "        \n",
    "fig.colorbar(im, ax=axes[:], shrink=0.75);"
   ]
  },
  {
   "cell_type": "markdown",
   "metadata": {
    "slideshow": {
     "slide_type": "slide"
    }
   },
   "source": [
    "## We can interpret our spherical harmonic tensors as components of traditional geometric tensor or as geometry itself."
   ]
  },
  {
   "cell_type": "code",
   "execution_count": null,
   "metadata": {
    "slideshow": {
     "slide_type": "subslide"
    }
   },
   "outputs": [],
   "source": [
    "rows, cols = 1, 1\n",
    "specs = [[{'is_3d': True} for i in range(cols)]\n",
    "         for j in range(rows)]\n",
    "fig = make_subplots(rows=rows, cols=cols, specs=specs)\n",
    "\n",
    "L_max = 6\n",
    "Rs = [(1, L) for L in range(L_max + 1)]\n",
    "sum_Ls = sum(2 * L + 1 for mult, L in Rs) \n",
    "\n",
    "# Random spherical tensor up to L_Max\n",
    "rand_sph_tensor = torch.randn(sum_Ls)\n",
    "\n",
    "sphten = SphericalTensor(rand_sph_tensor, Rs)\n",
    "\n",
    "trace = sphten.plot(relu=False, n=60)\n",
    "fig.add_trace(trace, row=1, col=1)\n",
    "fig.show()"
   ]
  },
  {
   "cell_type": "code",
   "execution_count": null,
   "metadata": {
    "slideshow": {
     "slide_type": "subslide"
    }
   },
   "outputs": [],
   "source": [
    "# Projection of tetrahedron on origin\n",
    "\n",
    "rows, cols = 1, 1\n",
    "specs = [[{'is_3d': True} for i in range(cols)]\n",
    "         for j in range(rows)]\n",
    "fig = make_subplots(rows=rows, cols=cols, specs=specs)\n",
    "\n",
    "L_max = 6\n",
    "tetra_coords = torch.tensor( # The easiest way to construct a tetrahedron is using opposite corners of a box\n",
    "    [[0., 0., 0.], [1., 1., 0.], [1., 0., 1.], [0., 1., 1.]]\n",
    ")\n",
    "tetra_coords -= tetra_coords.mean(-2)\n",
    "\n",
    "fig = make_subplots(rows=rows, cols=cols, specs=specs)\n",
    "\n",
    "sphten = SphericalTensor.from_geometry(tetra_coords, L_max)\n",
    "\n",
    "trace = sphten.plot(relu=False, n=60)\n",
    "fig.add_trace(trace, row=1, col=1)\n",
    "fig.show()"
   ]
  },
  {
   "cell_type": "code",
   "execution_count": null,
   "metadata": {},
   "outputs": [],
   "source": []
  }
 ],
 "metadata": {
  "celltoolbar": "Slideshow",
  "kernelspec": {
   "display_name": "Python 3",
   "language": "python",
   "name": "python3"
  },
  "language_info": {
   "codemirror_mode": {
    "name": "ipython",
    "version": 3
   },
   "file_extension": ".py",
   "mimetype": "text/x-python",
   "name": "python",
   "nbconvert_exporter": "python",
   "pygments_lexer": "ipython3",
   "version": "3.7.3"
  }
 },
 "nbformat": 4,
 "nbformat_minor": 2
}
