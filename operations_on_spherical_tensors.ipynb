{
 "cells": [
  {
   "cell_type": "markdown",
   "metadata": {},
   "source": [
    "# Operations on Spherical Tensors\n",
    "\n",
    "### using the `e3nn` repository\n",
    "\n",
    "## tutorial by: Tess E. Smidt\n",
    "## code by: \n",
    "\n",
    "[![DOI](https://zenodo.org/badge/116704656.svg)](https://zenodo.org/badge/latestdoi/116704656)\n",
    "```\n",
    "@misc{mario_geiger_2019_3348277,\n",
    "  author       = {Mario Geiger and\n",
    "                  Tess Smidt and\n",
    "                  Wouter Boomsma and\n",
    "                  Maurice Weiler and\n",
    "                  Michał Tyszkiewicz and\n",
    "                  Jes Frellsen and\n",
    "                  Benjamin K. Miller and\n",
    "                  Josh Rackers},\n",
    "  title        = {e3nn/e3nn: Point cloud support},\n",
    "  month        = jul,\n",
    "  year         = 2019,\n",
    "  doi          = {10.5281/zenodo.3348277},\n",
    "  url          = {https://doi.org/10.5281/zenodo.3348277}\n",
    "}\n",
    "```"
   ]
  },
  {
   "cell_type": "markdown",
   "metadata": {},
   "source": [
    "### We're going to use the `SphericalTensor` class like we did in `data_types.ipynb`."
   ]
  },
  {
   "cell_type": "code",
   "execution_count": null,
   "metadata": {},
   "outputs": [],
   "source": [
    "%load_ext autoreload\n",
    "%autoreload 2\n",
    "\n",
    "import torch\n",
    "from spherical import SphericalTensor\n",
    "\n",
    "torch.set_default_dtype(torch.float64)"
   ]
  },
  {
   "cell_type": "markdown",
   "metadata": {},
   "source": [
    "## Spherical tensors can be added."
   ]
  },
  {
   "cell_type": "code",
   "execution_count": null,
   "metadata": {},
   "outputs": [],
   "source": [
    "Rs = [(1, 1)]\n",
    "sum_Ls = sum((2 * L + 1) for mult, L in Rs for _ in range(mult))\n",
    "signal_1 = torch.zeros(sum_Ls)\n",
    "signal_1[0] = 1.  # y\n",
    "signal_2 = torch.zeros(sum_Ls)\n",
    "signal_2[2] = 1.  # x\n",
    "sphten_1 = SphericalTensor(signal_1, Rs)\n",
    "sphten_2 = SphericalTensor(signal_2, Rs)"
   ]
  },
  {
   "cell_type": "code",
   "execution_count": null,
   "metadata": {},
   "outputs": [],
   "source": [
    "import plotly\n",
    "from plotly.subplots import make_subplots\n",
    "\n",
    "n = 50\n",
    "\n",
    "def plot_operation(input1, input2, output):\n",
    "    rows = 1\n",
    "    cols = 3\n",
    "    specs = [[{'is_3d': True} for i in range(cols)]\n",
    "             for j in range(rows)]\n",
    "    fig = make_subplots(rows=rows, cols=cols, specs=specs)\n",
    "    for i, sphten in enumerate([input1, input2, output]):\n",
    "        trace = sphten.plot(relu=False, n=n)\n",
    "        trace.showscale = False\n",
    "        fig.add_trace(trace, row=1, col=i + 1)\n",
    "    fig.update_layout(scene_aspectmode='data')\n",
    "    return fig\n",
    "\n",
    "new_sphten = sphten_1 + sphten_2\n",
    "# plots functions proportional to y, x, and (x + y)\n",
    "fig = plot_operation(sphten_1, sphten_2, new_sphten)\n",
    "fig.show()"
   ]
  },
  {
   "cell_type": "markdown",
   "metadata": {},
   "source": [
    "## We can compute the dot product of two spherical tensors"
   ]
  },
  {
   "cell_type": "code",
   "execution_count": null,
   "metadata": {},
   "outputs": [],
   "source": [
    "dot_product = sphten_1 * sphten_2 # These functions are orthogonal\n",
    "print(dot_product)\n",
    "\n",
    "dot_product = sphten_1 * sphten_1 # These functions are identical\n",
    "print(dot_product)"
   ]
  },
  {
   "cell_type": "markdown",
   "metadata": {},
   "source": [
    "## We CANNOT multiply two spherical tensors, but we can compute their tensor product and use Clebsch-Gordon coeffients to combine two tensor indices into one"
   ]
  },
  {
   "cell_type": "code",
   "execution_count": null,
   "metadata": {},
   "outputs": [],
   "source": [
    "new_sphten = sphten_1 @ sphten_2\n",
    "print(\"input1 Rs\", sphten_1.Rs)\n",
    "print(\"input2 Rs\", sphten_2.Rs)\n",
    "print(\"output Rs\", new_sphten.Rs)\n",
    "print(\"\")\n",
    "# plots functions proportional to y, x, and 1 + xy\n",
    "print(\"Now we have contributions to z (cross product) and xy (outer product).\")\n",
    "fig = plot_operation(sphten_1, sphten_2, new_sphten)\n",
    "print(\"SH:\", \"  1      y      z      x      xy     yz     *      zx     %\",)\n",
    "print(\"new\", new_sphten.signal.numpy().round(3))\n",
    "print(\"* == 2z^2 - x^2 - y^2\")\n",
    "print(\"% == x^2 - y^2\")\n",
    "fig.show()"
   ]
  },
  {
   "cell_type": "code",
   "execution_count": null,
   "metadata": {},
   "outputs": [],
   "source": []
  },
  {
   "cell_type": "code",
   "execution_count": null,
   "metadata": {},
   "outputs": [],
   "source": []
  }
 ],
 "metadata": {
  "kernelspec": {
   "display_name": "Python 3",
   "language": "python",
   "name": "python3"
  },
  "language_info": {
   "codemirror_mode": {
    "name": "ipython",
    "version": 3
   },
   "file_extension": ".py",
   "mimetype": "text/x-python",
   "name": "python",
   "nbconvert_exporter": "python",
   "pygments_lexer": "ipython3",
   "version": "3.8.1"
  }
 },
 "nbformat": 4,
 "nbformat_minor": 2
}
